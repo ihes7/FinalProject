{
 "cells": [
  {
   "cell_type": "code",
   "execution_count": 207,
   "id": "b3f91869-35cb-4f33-80e7-aac1bace864e",
   "metadata": {},
   "outputs": [
    {
     "name": "stdout",
     "output_type": "stream",
     "text": [
      "Predicted Actual Value: 11287839.7\n"
     ]
    },
    {
     "name": "stderr",
     "output_type": "stream",
     "text": [
      "C:\\Users\\huawei\\anaconda3\\Lib\\site-packages\\sklearn\\base.py:493: UserWarning: X does not have valid feature names, but LinearRegression was fitted with feature names\n",
      "  warnings.warn(\n"
     ]
    }
   ],
   "source": [
    "import pandas as pd\n",
    "from sklearn.model_selection import train_test_split\n",
    "from sklearn.linear_model import LinearRegression\n",
    "from sklearn.metrics import r2_score\n",
    "\n",
    "file_path = 'C:\\\\Users\\\\huawei\\\\Desktop\\\\AI_TW(FinalProject)\\\\DBFinalProject11.csv'  \n",
    "df = pd.read_csv(file_path)\n",
    "\n",
    "X = df[[\"Section\", \"SubSection\",\"budget\"]]  \n",
    "y = df[\"Actual\"]  \n",
    "\n",
    "X_train, X_test, y_train, y_test = train_test_split(X, y, test_size=0.2, random_state=42)\n",
    "\n",
    "model = LinearRegression()\n",
    "model.fit(X_train, y_train)\n",
    "\n",
    "y_pred = model.predict(X_test)\n",
    "\n",
    "sample_input = [[21, 1,334166349.9]]  \n",
    "prediction = model.predict(sample_input)\n",
    "print(f\"Predicted Actual Value: {prediction[0]:.1f}\")\n",
    "#211084675.7"
   ]
  },
  {
   "cell_type": "code",
   "execution_count": 209,
   "id": "543f447b-9ba0-4b6e-a05b-56eaff2c31a0",
   "metadata": {},
   "outputs": [
    {
     "data": {
      "text/plain": [
       "59700"
      ]
     },
     "execution_count": 209,
     "metadata": {},
     "output_type": "execute_result"
    }
   ],
   "source": [
    "len(df)"
   ]
  },
  {
   "cell_type": "code",
   "execution_count": 211,
   "id": "65d57a29-d442-4de4-a095-63acfa19eda5",
   "metadata": {},
   "outputs": [
    {
     "data": {
      "text/plain": [
       "47760"
      ]
     },
     "execution_count": 211,
     "metadata": {},
     "output_type": "execute_result"
    }
   ],
   "source": [
    " len(X_train)"
   ]
  },
  {
   "cell_type": "code",
   "execution_count": 213,
   "id": "4919bb95-e135-4519-a162-ca2c09ecc0ae",
   "metadata": {},
   "outputs": [
    {
     "data": {
      "text/plain": [
       "47760"
      ]
     },
     "execution_count": 213,
     "metadata": {},
     "output_type": "execute_result"
    }
   ],
   "source": [
    "len(y_train)"
   ]
  }
 ],
 "metadata": {
  "kernelspec": {
   "display_name": "Python [conda env:base] *",
   "language": "python",
   "name": "conda-base-py"
  },
  "language_info": {
   "codemirror_mode": {
    "name": "ipython",
    "version": 3
   },
   "file_extension": ".py",
   "mimetype": "text/x-python",
   "name": "python",
   "nbconvert_exporter": "python",
   "pygments_lexer": "ipython3",
   "version": "3.12.7"
  }
 },
 "nbformat": 4,
 "nbformat_minor": 5
}
